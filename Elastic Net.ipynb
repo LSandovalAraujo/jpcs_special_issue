{
 "cells": [
  {
   "cell_type": "code",
   "execution_count": 1,
   "metadata": {},
   "outputs": [
    {
     "name": "stderr",
     "output_type": "stream",
     "text": [
      "C:\\Users\\Luis\\AppData\\Roaming\\Python\\Python38\\site-packages\\pandas\\core\\computation\\expressions.py:20: UserWarning: Pandas requires version '2.7.3' or newer of 'numexpr' (version '2.7.1' currently installed).\n",
      "  from pandas.core.computation.check import NUMEXPR_INSTALLED\n"
     ]
    }
   ],
   "source": [
    "import pandas as pd\n",
    "import numpy as np\n",
    "import random\n",
    "import matplotlib \n",
    "import os"
   ]
  },
  {
   "cell_type": "code",
   "execution_count": 2,
   "metadata": {},
   "outputs": [],
   "source": [
    "os.chdir('C:/Users/Luis/Box/R15 Sensor Preprocessing and Analysis/JPCS Special Issue') #set directory\n",
    "raw = pd.read_csv('Full_Summary_Features_clean_2-24-2024.csv') #filtered summary data from madison"
   ]
  },
  {
   "cell_type": "code",
   "execution_count": 3,
   "metadata": {
    "scrolled": false
   },
   "outputs": [
    {
     "name": "stdout",
     "output_type": "stream",
     "text": [
      "Unnamed..0\n",
      "Time\n",
      "HR_Mean\n",
      "HR_Minimum\n",
      "HR_Maximum\n",
      "HR_Stdev\n",
      "HR_RMS\n",
      "HR_MAD\n",
      "HR_MAV\n",
      "HR_Median\n",
      "HR_P25\n",
      "HR_P75\n",
      "EDA_Mean\n",
      "EDA_Minimum\n",
      "EDA_Maximum\n",
      "EDA_Stdev\n",
      "EDA_RMS\n",
      "EDA_MAD\n",
      "EDA_MAV\n",
      "EDA_Median\n",
      "EDA_P25\n",
      "EDA_P75\n",
      "TEMP_Mean\n",
      "TEMP_Minimum\n",
      "TEMP_Maximum\n",
      "TEMP_Stdev\n",
      "TEMP_RMS\n",
      "TEMP_MAD\n",
      "TEMP_MAV\n",
      "TEMP_Median\n",
      "TEMP_P25\n",
      "TEMP_P75\n",
      "meanCenteredEDA_Mean\n",
      "meanCenteredEDA_Minimum\n",
      "meanCenteredEDA_Maximum\n",
      "meanCenteredEDA_Stdev\n",
      "meanCenteredEDA_RMS\n",
      "meanCenteredEDA_MAD\n",
      "meanCenteredEDA_MAV\n",
      "meanCenteredEDA_Median\n",
      "meanCenteredEDA_P25\n",
      "meanCenteredEDA_P75\n",
      "meanCenteredHR_Mean\n",
      "meanCenteredHR_Minimum\n",
      "meanCenteredHR_Maximum\n",
      "meanCenteredHR_Stdev\n",
      "meanCenteredHR_RMS\n",
      "meanCenteredHR_MAD\n",
      "meanCenteredHR_MAV\n",
      "meanCenteredHR_Median\n",
      "meanCenteredHR_P25\n",
      "meanCenteredHR_P75\n",
      "meanCenteredTEMP_Mean\n",
      "meanCenteredTEMP_Minimum\n",
      "meanCenteredTEMP_Maximum\n",
      "meanCenteredTEMP_Stdev\n",
      "meanCenteredTEMP_RMS\n",
      "meanCenteredTEMP_MAD\n",
      "meanCenteredTEMP_MAV\n",
      "meanCenteredTEMP_Median\n",
      "meanCenteredTEMP_P25\n",
      "meanCenteredTEMP_P75\n",
      "ethica_time\n",
      "lag\n",
      "tdif\n",
      "cumsumT\n",
      "ethica_time_utc\n",
      "dayvar\n",
      "beepvar\n",
      "beepconsec\n",
      "sleep\n",
      "fowg\n",
      "wtshdiss\n",
      "badperson\n",
      "eat_public\n",
      "eat_worry\n",
      "anxiety\n",
      "worthless\n",
      "restrict\n",
      "desirethin\n",
      "overvalwtsh\n",
      "reject\n",
      "mistakes\n",
      "highstand\n",
      "iuc\n",
      "saa\n",
      "intrus_thought\n",
      "fearloc\n",
      "bodydiss\n",
      "ineffective\n",
      "food_intrus\n",
      "guilty\n",
      "shame\n",
      "sad\n",
      "si\n",
      "thought_death\n",
      "scared\n",
      "feelfat\n",
      "tired\n",
      "agitated\n",
      "relax\n",
      "urge_restrict\n",
      "stress\n",
      "skipmeal\n",
      "foodrules\n",
      "vomit\n",
      "laxdiur\n",
      "binge\n",
      "bodycheck\n",
      "impulse\n",
      "exercise\n",
      "compulsion\n",
      "avoid_food\n",
      "selfharm\n",
      "hunger_anx\n",
      "smallportion\n",
      "drink_public\n",
      "avoid_emo\n",
      "avoid_sit\n",
      "emo_overwhelm\n",
      "eat_anx\n",
      "rumination\n",
      "heartrace\n",
      "physsens_eat\n",
      "attn_others\n",
      "worryoverwhelm\n",
      "physsens\n",
      "socialanx\n",
      "sens_body\n",
      "ridthoughts\n",
      "memories\n",
      "chewspit\n",
      "sleep_meanCentered\n",
      "sleep_medCentered\n",
      "fowg_meanCentered\n",
      "fowg_medCentered\n",
      "wtshdiss_meanCentered\n",
      "wtshdiss_medCentered\n",
      "badperson_meanCentered\n",
      "badperson_medCentered\n",
      "eat_public_meanCentered\n",
      "eat_public_medCentered\n",
      "eat_worry_meanCentered\n",
      "eat_worry_medCentered\n",
      "anxiety_meanCentered\n",
      "anxiety_medCentered\n",
      "worthless_meanCentered\n",
      "worthless_medCentered\n",
      "restrict_meanCentered\n",
      "restrict_medCentered\n",
      "desirethin_meanCentered\n",
      "desirethin_medCentered\n",
      "overvalwtsh_meanCentered\n",
      "overvalwtsh_medCentered\n",
      "reject_meanCentered\n",
      "reject_medCentered\n",
      "mistakes_meanCentered\n",
      "mistakes_medCentered\n",
      "highstand_meanCentered\n",
      "highstand_medCentered\n",
      "iuc_meanCentered\n",
      "iuc_medCentered\n",
      "saa_meanCentered\n",
      "saa_medCentered\n",
      "intrus_thought_meanCentered\n",
      "intrus_thought_medCentered\n",
      "fearloc_meanCentered\n",
      "fearloc_medCentered\n",
      "bodydiss_meanCentered\n",
      "bodydiss_medCentered\n",
      "ineffective_meanCentered\n",
      "ineffective_medCentered\n",
      "food_intrus_meanCentered\n",
      "food_intrus_medCentered\n",
      "guilty_meanCentered\n",
      "guilty_medCentered\n",
      "shame_meanCentered\n",
      "shame_medCentered\n",
      "sad_meanCentered\n",
      "sad_medCentered\n",
      "si_meanCentered\n",
      "si_medCentered\n",
      "thought_death_meanCentered\n",
      "thought_death_medCentered\n",
      "scared_meanCentered\n",
      "scared_medCentered\n",
      "feelfat_meanCentered\n",
      "feelfat_medCentered\n",
      "tired_meanCentered\n",
      "tired_medCentered\n",
      "agitated_meanCentered\n",
      "agitated_medCentered\n",
      "relax_meanCentered\n",
      "relax_medCentered\n",
      "urge_restrict_meanCentered\n",
      "urge_restrict_medCentered\n",
      "stress_meanCentered\n",
      "stress_medCentered\n",
      "skipmeal_meanCentered\n",
      "skipmeal_medCentered\n",
      "foodrules_meanCentered\n",
      "foodrules_medCentered\n",
      "vomit_meanCentered\n",
      "vomit_medCentered\n",
      "laxdiur_meanCentered\n",
      "laxdiur_medCentered\n",
      "binge_meanCentered\n",
      "binge_medCentered\n",
      "bodycheck_meanCentered\n",
      "bodycheck_medCentered\n",
      "impulse_meanCentered\n",
      "impulse_medCentered\n",
      "exercise_meanCentered\n",
      "exercise_medCentered\n",
      "compulsion_meanCentered\n",
      "compulsion_medCentered\n",
      "avoid_food_meanCentered\n",
      "avoid_food_medCentered\n",
      "selfharm_meanCentered\n",
      "selfharm_medCentered\n",
      "hunger_anx_meanCentered\n",
      "hunger_anx_medCentered\n",
      "smallportion_meanCentered\n",
      "smallportion_medCentered\n",
      "drink_public_meanCentered\n",
      "drink_public_medCentered\n",
      "avoid_emo_meanCentered\n",
      "avoid_emo_medCentered\n",
      "avoid_sit_meanCentered\n",
      "avoid_sit_medCentered\n",
      "emo_overwhelm_meanCentered\n",
      "emo_overwhelm_medCentered\n",
      "eat_anx_meanCentered\n",
      "eat_anx_medCentered\n",
      "rumination_meanCentered\n",
      "rumination_medCentered\n",
      "heartrace_meanCentered\n",
      "heartrace_medCentered\n",
      "physsens_eat_meanCentered\n",
      "physsens_eat_medCentered\n",
      "attn_others_meanCentered\n",
      "attn_others_medCentered\n",
      "worryoverwhelm_meanCentered\n",
      "worryoverwhelm_medCentered\n",
      "physsens_meanCentered\n",
      "physsens_medCentered\n",
      "socialanx_meanCentered\n",
      "socialanx_medCentered\n",
      "sens_body_meanCentered\n",
      "sens_body_medCentered\n",
      "ridthoughts_meanCentered\n",
      "ridthoughts_medCentered\n",
      "memories_meanCentered\n",
      "memories_medCentered\n",
      "chewspit_meanCentered\n",
      "chewspit_medCentered\n",
      "PR\n"
     ]
    }
   ],
   "source": [
    "for col in raw.columns: \n",
    "    print(col) #i want to see all the columns so i can specifically pick the features i actually want\n",
    "    #we are going to make a dataset containing just restrict alongside predictors aka physio\n",
    "    #then we are going to make another dataset containing just urge to restrict alongside physio\n",
    "    #we don't want to include any other EMA in our train/test data for each analysis"
   ]
  },
  {
   "cell_type": "code",
   "execution_count": 4,
   "metadata": {},
   "outputs": [],
   "source": [
    "#random seed. I picked 6 because I like 6 and i always pick 6. this is so we get the same results every time\n",
    "np.random.seed(6)"
   ]
  },
  {
   "cell_type": "code",
   "execution_count": 5,
   "metadata": {},
   "outputs": [],
   "source": [
    "#creating the dataset for predicting urge_restrict from physio alone\n",
    "urgeData = raw.filter(['meanCenteredEDA_Mean', 'meanCenteredEDA_Minimum', 'meanCenteredEDA_Maximum', 'meanCenteredEDA_Stdev', \n",
    "                       'meanCenteredEDA_RMS', 'meanCenteredEDA_MAD', 'meanCenteredEDA_MAV', 'meanCenteredEDA_Median', \n",
    "                       'meanCenteredEDA_P25', 'meanCenteredEDA_P75', 'meanCenteredHR_Mean', 'meanCenteredHR_Minimum', \n",
    "                       'meanCenteredHR_Maximum', 'meanCenteredHR_Stdev', 'meanCenteredHR_RMS', 'meanCenteredHR_MAD', \n",
    "                       'meanCenteredHR_MAV', 'meanCenteredHR_Median', 'meanCenteredHR_P25', 'meanCenteredHR_P75', \n",
    "                       'meanCenteredTEMP_Mean', 'meanCenteredTEMP_Minimum', 'meanCenteredTEMP_Maximum', 'meanCenteredTEMP_Stdev', \n",
    "                       'meanCenteredTEMP_RMS', 'meanCenteredTEMP_MAD', 'meanCenteredTEMP_MAV', 'meanCenteredTEMP_Median', \n",
    "                       'meanCenteredTEMP_P25', 'meanCenteredTEMP_P75', 'urge_restrict'])\n",
    "\n",
    "\n"
   ]
  },
  {
   "cell_type": "code",
   "execution_count": 6,
   "metadata": {
    "scrolled": true
   },
   "outputs": [],
   "source": [
    "#creating the dataset for predicting restrict from physio alone\n",
    "restrictData = raw.filter(['meanCenteredEDA_Mean', 'meanCenteredEDA_Minimum', 'meanCenteredEDA_Maximum', 'meanCenteredEDA_Stdev', \n",
    "                       'meanCenteredEDA_RMS', 'meanCenteredEDA_MAD', 'meanCenteredEDA_MAV', 'meanCenteredEDA_Median', \n",
    "                       'meanCenteredEDA_P25', 'meanCenteredEDA_P75', 'meanCenteredHR_Mean', 'meanCenteredHR_Minimum', \n",
    "                       'meanCenteredHR_Maximum', 'meanCenteredHR_Stdev', 'meanCenteredHR_RMS', 'meanCenteredHR_MAD', \n",
    "                       'meanCenteredHR_MAV', 'meanCenteredHR_Median', 'meanCenteredHR_P25', 'meanCenteredHR_P75', \n",
    "                       'meanCenteredTEMP_Mean', 'meanCenteredTEMP_Minimum', 'meanCenteredTEMP_Maximum', 'meanCenteredTEMP_Stdev', \n",
    "                       'meanCenteredTEMP_RMS', 'meanCenteredTEMP_MAD', 'meanCenteredTEMP_MAV', 'meanCenteredTEMP_Median', \n",
    "                       'meanCenteredTEMP_P25', 'meanCenteredTEMP_P75', 'restrict'])\n",
    "\n"
   ]
  },
  {
   "cell_type": "code",
   "execution_count": 7,
   "metadata": {},
   "outputs": [
    {
     "data": {
      "text/plain": [
       "False"
      ]
     },
     "execution_count": 7,
     "metadata": {},
     "output_type": "execute_result"
    }
   ],
   "source": [
    "urgeData.dropna(subset=[\"urge_restrict\"], inplace = True) #remove any cases where EMA is missing\n",
    "np.any(np.isnan(urgeData['urge_restrict'])) #check that NAs exist - if false, we are good\n",
    "\n",
    "restrictData.dropna(subset=[\"restrict\"], inplace = True) #remove any cases where EMA is missing\n",
    "np.any(np.isnan(restrictData['restrict'])) #check that NAs exist - if false, we are good"
   ]
  },
  {
   "cell_type": "code",
   "execution_count": 8,
   "metadata": {},
   "outputs": [],
   "source": [
    "#we want to randomly assort the rows in these dataframes now since they're clustered by participant\n",
    "restrictDataShuffled = restrictData.sample(frac = 1) #shuffle restriction dataset\n",
    "urgeDataShuffled = urgeData.sample(frac = 1) #shuffle urge dataset"
   ]
  },
  {
   "cell_type": "code",
   "execution_count": 9,
   "metadata": {},
   "outputs": [],
   "source": [
    "#now what i want to do is reserve a portion of the data to test after the fact - the remaining data we'll do k-fold cross validation\n",
    "#we're going to split the data as follows: \n",
    "#80% of the data is going to be the train/test data for the model\n",
    "#the remaining 20% will be held and we will use the trained/tested model to see how closely it predicts the 20% holdover set\n",
    "\n",
    "from sklearn.model_selection import train_test_split\n",
    "\n",
    "urgeX = urgeDataShuffled.drop(columns = {'urge_restrict'}) #drop urge_restrict from dataframe for the splitting\n",
    "urgey = urgeDataShuffled.filter(['urge_restrict']) #make a dataframe containing only urge_restrict variable\n",
    "\n",
    "restX = restrictDataShuffled.drop(columns = {'restrict'})\n",
    "resty = restrictDataShuffled.filter(['restrict'])"
   ]
  },
  {
   "cell_type": "code",
   "execution_count": 10,
   "metadata": {},
   "outputs": [],
   "source": [
    "urgeX_train, urgeX_test, urgey_train, urgey_test = train_test_split(urgeX, urgey, random_state=6,test_size=0.20) \n",
    "restX_train, restX_test, resty_train, resty_test = train_test_split(restX, resty, random_state=6,test_size=0.20) \n",
    "#we're sticking with 6 for random_state\n",
    "#the test sets are what we are going to validate our models on later"
   ]
  },
  {
   "cell_type": "code",
   "execution_count": 11,
   "metadata": {},
   "outputs": [],
   "source": [
    "from sklearn.model_selection import cross_val_score\n",
    "from sklearn.model_selection import RepeatedKFold\n",
    "from sklearn.linear_model import ElasticNet\n",
    "\n",
    "#we're going to start exclusively with the urge data for now, we'll circle back to the restrict data later \n",
    "\n",
    "urgeMod = ElasticNet() #we're starting with default parameters - alpha=1.0, l1_ratio=0.5\n",
    "urgecv = RepeatedKFold(n_splits=10, n_repeats=3, random_state=6) #i still like 6, we're doing a 10-fold cross-validation repeating 3 times\n"
   ]
  },
  {
   "cell_type": "code",
   "execution_count": 12,
   "metadata": {},
   "outputs": [],
   "source": [
    "from sklearn.model_selection import cross_validate\n",
    "from numpy import mean\n",
    "from numpy import std\n",
    "from numpy import absolute\n",
    "\n",
    "def cross_validation(model, _X, _y, _cv):\n",
    "    _scoring = ['neg_mean_absolute_error', 'neg_mean_squared_error', 'r2']\n",
    "    results = cross_validate(estimator = model, X = _X, y = _y, cv = _cv, scoring = _scoring, return_train_score = True)\n",
    "    #print(results)\n",
    "    return {#\"MAE scores\": absolute(results['train_neg_mean_absolute_error']),\n",
    "            \"Mean MAE\": absolute(results['train_neg_mean_absolute_error']).mean(),\n",
    "            #\"MSE scores\": absolute(results['train_neg_mean_squared_error']),\n",
    "            \"Mean MSE\": absolute(results['train_neg_mean_squared_error']).mean(),\n",
    "            #\"R^2 scores\": absolute(results['train_r2']),\n",
    "            \"Mean R^2\": absolute(results['train_r2']).mean()} #make a function for all performance metrics"
   ]
  },
  {
   "cell_type": "code",
   "execution_count": 13,
   "metadata": {},
   "outputs": [
    {
     "name": "stdout",
     "output_type": "stream",
     "text": [
      "{'Mean MAE': 26.47874485549623, 'Mean MSE': 946.6085695917993, 'Mean R^2': 0.03777392875523218}\n"
     ]
    }
   ],
   "source": [
    "urgecv_result = cross_validation(urgeMod, urgeX_train, urgey_train, urgecv)\n",
    "print(urgecv_result) #well we're on average ~26.5 points off of predicting urge to restrict"
   ]
  },
  {
   "cell_type": "code",
   "execution_count": 14,
   "metadata": {},
   "outputs": [
    {
     "name": "stdout",
     "output_type": "stream",
     "text": [
      "{'Mean MAE': 29.522097506654028, 'Mean MSE': 1101.295243658522, 'Mean R^2': 0.04689058977877744}\n"
     ]
    }
   ],
   "source": [
    "#might as well try restrict now \n",
    "\n",
    "restMod = ElasticNet()\n",
    "restcv = RepeatedKFold(n_splits=10, n_repeats=3, random_state=6)\n",
    "restcv_result = cross_validation(restMod, restX_train, resty_train, restcv)\n",
    "print(restcv_result) #we're on average ~29.5 points off of predicting restriction"
   ]
  },
  {
   "cell_type": "code",
   "execution_count": null,
   "metadata": {},
   "outputs": [],
   "source": []
  }
 ],
 "metadata": {
  "kernelspec": {
   "display_name": "Python 3",
   "language": "python",
   "name": "python3"
  },
  "language_info": {
   "codemirror_mode": {
    "name": "ipython",
    "version": 3
   },
   "file_extension": ".py",
   "mimetype": "text/x-python",
   "name": "python",
   "nbconvert_exporter": "python",
   "pygments_lexer": "ipython3",
   "version": "3.8.5"
  }
 },
 "nbformat": 4,
 "nbformat_minor": 4
}
